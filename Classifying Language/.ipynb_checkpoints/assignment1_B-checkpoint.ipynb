{
 "cells": [
  {
   "cell_type": "code",
   "execution_count": 32,
   "id": "interesting-hungary",
   "metadata": {},
   "outputs": [],
   "source": [
    "import spacy\n",
    "import pandas as pd\n",
    "import numpy as np\n",
    "from pandas import Series,DataFrame\n",
    "import sklearn\n",
    "from sklearn.metrics import classification_report\n",
    "from sklearn.metrics import confusion_matrix\n",
    "from sklearn import metrics\n",
    "import csv"
   ]
  },
  {
   "cell_type": "code",
   "execution_count": 33,
   "id": "abstract-currency",
   "metadata": {},
   "outputs": [],
   "source": [
    "nlp = spacy.load('en_core_web_sm')"
   ]
  },
  {
   "cell_type": "code",
   "execution_count": 34,
   "id": "serial-watts",
   "metadata": {},
   "outputs": [],
   "source": [
    "dataset = pd.read_csv(\"SemEval2018-Task3/datasets/train/SemEval2018-T3-train-taskB.txt\",sep='\\t',header=0,index_col=0,quoting=csv.QUOTE_NONE, error_bad_lines=False)"
   ]
  },
  {
   "cell_type": "code",
   "execution_count": 35,
   "id": "european-scientist",
   "metadata": {},
   "outputs": [
    {
     "data": {
      "text/plain": [
       "3834"
      ]
     },
     "execution_count": 35,
     "metadata": {},
     "output_type": "execute_result"
    }
   ],
   "source": [
    "len(dataset)"
   ]
  },
  {
   "cell_type": "code",
   "execution_count": 36,
   "id": "useful-forth",
   "metadata": {},
   "outputs": [
    {
     "data": {
      "text/plain": [
       "Label\n",
       "0    1923\n",
       "1    1390\n",
       "2     316\n",
       "3     205\n",
       "dtype: int64"
      ]
     },
     "execution_count": 36,
     "metadata": {},
     "output_type": "execute_result"
    }
   ],
   "source": [
    "dataset.groupby(dataset['Label']).size()"
   ]
  },
  {
   "cell_type": "code",
   "execution_count": 37,
   "id": "japanese-strength",
   "metadata": {},
   "outputs": [
    {
     "data": {
      "text/plain": [
       "Label\n",
       "0    50.156495\n",
       "1    36.254564\n",
       "2     8.242045\n",
       "3     5.346896\n",
       "dtype: float64"
      ]
     },
     "execution_count": 37,
     "metadata": {},
     "output_type": "execute_result"
    }
   ],
   "source": [
    "dataset.groupby(dataset['Label']).size()/len(dataset)*100"
   ]
  },
  {
   "cell_type": "code",
   "execution_count": null,
   "id": "respiratory-holder",
   "metadata": {},
   "outputs": [],
   "source": []
  },
  {
   "cell_type": "code",
   "execution_count": 38,
   "id": "burning-rebel",
   "metadata": {},
   "outputs": [],
   "source": [
    "test_dataset = pd.read_csv(\"SemEval2018-Task3/datasets/goldtest_TaskB/SemEval2018-T3_gold_test_taskB_emoji.txt\",sep='\\t',header=0,index_col=0,quoting=csv.QUOTE_NONE, error_bad_lines=False)"
   ]
  },
  {
   "cell_type": "code",
   "execution_count": 39,
   "id": "miniature-sitting",
   "metadata": {},
   "outputs": [],
   "source": [
    "true_label = test_dataset['Label'].tolist()"
   ]
  },
  {
   "cell_type": "code",
   "execution_count": null,
   "id": "valued-tennessee",
   "metadata": {},
   "outputs": [],
   "source": []
  },
  {
   "cell_type": "code",
   "execution_count": 40,
   "id": "incredible-slovakia",
   "metadata": {},
   "outputs": [],
   "source": [
    "np.random.seed(1024)\n",
    "random_label = np.random.randint(0,4,size=len(true_label))"
   ]
  },
  {
   "cell_type": "code",
   "execution_count": 41,
   "id": "extensive-large",
   "metadata": {},
   "outputs": [],
   "source": [
    "report = classification_report(true_label, random_label, target_names=['0', '1', '2','3'])"
   ]
  },
  {
   "cell_type": "code",
   "execution_count": 42,
   "id": "square-keeping",
   "metadata": {},
   "outputs": [
    {
     "name": "stdout",
     "output_type": "stream",
     "text": [
      "              precision    recall  f1-score   support\n",
      "\n",
      "           0       0.66      0.29      0.40       473\n",
      "           1       0.21      0.27      0.24       164\n",
      "           2       0.17      0.36      0.23        85\n",
      "           3       0.07      0.21      0.11        62\n",
      "\n",
      "    accuracy                           0.29       784\n",
      "   macro avg       0.28      0.28      0.24       784\n",
      "weighted avg       0.47      0.29      0.32       784\n",
      "\n"
     ]
    }
   ],
   "source": [
    "print(report)"
   ]
  },
  {
   "cell_type": "code",
   "execution_count": 43,
   "id": "directed-fruit",
   "metadata": {},
   "outputs": [
    {
     "data": {
      "text/plain": [
       "array([0.28541226, 0.27439024, 0.36470588, 0.20967742])"
      ]
     },
     "execution_count": 43,
     "metadata": {},
     "output_type": "execute_result"
    }
   ],
   "source": [
    "matrix = confusion_matrix(true_label, random_label, labels=[0, 1, 2, 3])\n",
    "matrix = matrix.astype('float') / matrix.sum(axis=1)[:, np.newaxis]\n",
    "# The diagonal entries are the accuracies of each class\n",
    "matrix.diagonal()"
   ]
  },
  {
   "cell_type": "code",
   "execution_count": 44,
   "id": "proved-knitting",
   "metadata": {},
   "outputs": [
    {
     "name": "stdout",
     "output_type": "stream",
     "text": [
      "0.2835464519416668\n"
     ]
    }
   ],
   "source": [
    "macro_average_accuracy = sum(matrix.diagonal()) / len(matrix.diagonal())\n",
    "print(macro_average_accuracy)"
   ]
  },
  {
   "cell_type": "code",
   "execution_count": 45,
   "id": "electrical-boundary",
   "metadata": {},
   "outputs": [
    {
     "data": {
      "text/plain": [
       "<function print>"
      ]
     },
     "execution_count": 45,
     "metadata": {},
     "output_type": "execute_result"
    }
   ],
   "source": [
    "weighted_averag_accuracy =  (0.28541226*0.520 + 0.27439024*0.3623 + 0.36470588*0.0828 + 0.20967742*0.053)\n",
    "print"
   ]
  },
  {
   "cell_type": "code",
   "execution_count": null,
   "id": "synthetic-difficulty",
   "metadata": {},
   "outputs": [],
   "source": []
  },
  {
   "cell_type": "code",
   "execution_count": null,
   "id": "preceding-sudan",
   "metadata": {},
   "outputs": [],
   "source": []
  },
  {
   "cell_type": "code",
   "execution_count": null,
   "id": "suffering-immune",
   "metadata": {},
   "outputs": [],
   "source": []
  },
  {
   "cell_type": "code",
   "execution_count": 46,
   "id": "czech-hudson",
   "metadata": {},
   "outputs": [],
   "source": [
    "# metrics.accuracy_score(true_label, random_label, average='macro')"
   ]
  },
  {
   "cell_type": "code",
   "execution_count": null,
   "id": "moved-latter",
   "metadata": {},
   "outputs": [],
   "source": []
  },
  {
   "cell_type": "code",
   "execution_count": 47,
   "id": "falling-shareware",
   "metadata": {},
   "outputs": [],
   "source": [
    "majority_label = np.zeros(len(true_label))"
   ]
  },
  {
   "cell_type": "code",
   "execution_count": 48,
   "id": "blank-semiconductor",
   "metadata": {},
   "outputs": [
    {
     "name": "stderr",
     "output_type": "stream",
     "text": [
      "/Users/darcy/opt/anaconda3/envs/NLPT/lib/python3.9/site-packages/sklearn/metrics/_classification.py:1245: UndefinedMetricWarning: Precision and F-score are ill-defined and being set to 0.0 in labels with no predicted samples. Use `zero_division` parameter to control this behavior.\n",
      "  _warn_prf(average, modifier, msg_start, len(result))\n",
      "/Users/darcy/opt/anaconda3/envs/NLPT/lib/python3.9/site-packages/sklearn/metrics/_classification.py:1245: UndefinedMetricWarning: Precision and F-score are ill-defined and being set to 0.0 in labels with no predicted samples. Use `zero_division` parameter to control this behavior.\n",
      "  _warn_prf(average, modifier, msg_start, len(result))\n",
      "/Users/darcy/opt/anaconda3/envs/NLPT/lib/python3.9/site-packages/sklearn/metrics/_classification.py:1245: UndefinedMetricWarning: Precision and F-score are ill-defined and being set to 0.0 in labels with no predicted samples. Use `zero_division` parameter to control this behavior.\n",
      "  _warn_prf(average, modifier, msg_start, len(result))\n"
     ]
    }
   ],
   "source": [
    "report = classification_report(true_label, majority_label, target_names=['0', '1', '2','3'])"
   ]
  },
  {
   "cell_type": "code",
   "execution_count": 49,
   "id": "union-supply",
   "metadata": {},
   "outputs": [
    {
     "name": "stdout",
     "output_type": "stream",
     "text": [
      "              precision    recall  f1-score   support\n",
      "\n",
      "           0       0.60      1.00      0.75       473\n",
      "           1       0.00      0.00      0.00       164\n",
      "           2       0.00      0.00      0.00        85\n",
      "           3       0.00      0.00      0.00        62\n",
      "\n",
      "    accuracy                           0.60       784\n",
      "   macro avg       0.15      0.25      0.19       784\n",
      "weighted avg       0.36      0.60      0.45       784\n",
      "\n"
     ]
    }
   ],
   "source": [
    "print(report)"
   ]
  },
  {
   "cell_type": "code",
   "execution_count": 50,
   "id": "authorized-tournament",
   "metadata": {},
   "outputs": [
    {
     "data": {
      "text/plain": [
       "array([1., 0., 0., 0.])"
      ]
     },
     "execution_count": 50,
     "metadata": {},
     "output_type": "execute_result"
    }
   ],
   "source": [
    "matrix = confusion_matrix(true_label, majority_label, labels=[0, 1, 2, 3])\n",
    "matrix = matrix.astype('float') / matrix.sum(axis=1)[:, np.newaxis]\n",
    "# The diagonal entries are the accuracies of each class\n",
    "matrix.diagonal()"
   ]
  },
  {
   "cell_type": "code",
   "execution_count": null,
   "id": "caroline-hawaii",
   "metadata": {},
   "outputs": [],
   "source": []
  },
  {
   "cell_type": "code",
   "execution_count": null,
   "id": "sunrise-agriculture",
   "metadata": {},
   "outputs": [],
   "source": []
  },
  {
   "cell_type": "code",
   "execution_count": null,
   "id": "charming-dealing",
   "metadata": {},
   "outputs": [],
   "source": []
  },
  {
   "cell_type": "code",
   "execution_count": null,
   "id": "related-concern",
   "metadata": {},
   "outputs": [],
   "source": []
  },
  {
   "cell_type": "code",
   "execution_count": null,
   "id": "sought-renaissance",
   "metadata": {},
   "outputs": [],
   "source": []
  },
  {
   "cell_type": "code",
   "execution_count": null,
   "id": "reflected-columbus",
   "metadata": {},
   "outputs": [],
   "source": []
  },
  {
   "cell_type": "code",
   "execution_count": null,
   "id": "qualified-acrobat",
   "metadata": {},
   "outputs": [],
   "source": []
  },
  {
   "cell_type": "code",
   "execution_count": null,
   "id": "dying-genius",
   "metadata": {},
   "outputs": [],
   "source": []
  }
 ],
 "metadata": {
  "kernelspec": {
   "display_name": "Python 3",
   "language": "python",
   "name": "python3"
  },
  "language_info": {
   "codemirror_mode": {
    "name": "ipython",
    "version": 3
   },
   "file_extension": ".py",
   "mimetype": "text/x-python",
   "name": "python",
   "nbconvert_exporter": "python",
   "pygments_lexer": "ipython3",
   "version": "3.9.2"
  }
 },
 "nbformat": 4,
 "nbformat_minor": 5
}
