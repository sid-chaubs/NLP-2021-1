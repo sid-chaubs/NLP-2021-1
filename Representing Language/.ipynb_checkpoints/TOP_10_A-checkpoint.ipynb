{
 "cells": [
  {
   "cell_type": "code",
   "execution_count": 65,
   "id": "pregnant-electricity",
   "metadata": {},
   "outputs": [],
   "source": [
    "import torch\n",
    "from transformers import BertModel, BertTokenizer, BertConfig\n",
    "from sklearn.metrics.pairwise import cosine_similarity\n",
    "import matplotlib.pyplot as plt\n",
    "import seaborn as sns\n",
    "import numpy as np\n",
    "import csv\n",
    "import pandas as pd"
   ]
  },
  {
   "cell_type": "code",
   "execution_count": 66,
   "id": "strategic-coordinate",
   "metadata": {},
   "outputs": [],
   "source": [
    "dataset = pd.read_csv(\"SemEval2018-Task3/datasets/train/SemEval2018-T3-train-taskB.txt\",sep='\\t',header=0,index_col=0,quoting=csv.QUOTE_NONE, error_bad_lines=False)"
   ]
  },
  {
   "cell_type": "code",
   "execution_count": 67,
   "id": "korean-fashion",
   "metadata": {},
   "outputs": [],
   "source": [
    "tweets  = dataset['Tweet text'][:20]"
   ]
  },
  {
   "cell_type": "code",
   "execution_count": 69,
   "id": "cubic-office",
   "metadata": {},
   "outputs": [],
   "source": [
    "# Initialize bert\n",
    "MODEL_NAME = 'bert-base-uncased'\n",
    "config = BertConfig.from_pretrained(MODEL_NAME, output_hidden_states=True)\n",
    "model = BertModel.from_pretrained(MODEL_NAME, config=config)\n",
    "tokenizer = BertTokenizer.from_pretrained(MODEL_NAME)"
   ]
  },
  {
   "cell_type": "code",
   "execution_count": 70,
   "id": "burning-shooting",
   "metadata": {},
   "outputs": [],
   "source": [
    "# TODO: Play around with some more sentences here.\n",
    "\n",
    "tweet_vectors = []\n",
    "all_tokens = []\n",
    "all_token_ids = []"
   ]
  },
  {
   "cell_type": "code",
   "execution_count": 71,
   "id": "fundamental-concentration",
   "metadata": {},
   "outputs": [
    {
     "name": "stdout",
     "output_type": "stream",
     "text": [
      "['[CLS]', 'sweet', 'united', 'nations', 'video', '.', 'just', 'in', 'time', 'for', 'christmas', '.', '#', 'imagine', '#', 'nor', '##eli', '##gio', '##n', 'http', ':', '/', '/', 't', '.', 'co', '/', 'fe', '##j', '##2', '##v', '##3', '##ou', '##br', '[SEP]']\n",
      "[101, 4086, 2142, 3741, 2678, 1012, 2074, 1999, 2051, 2005, 4234, 1012, 1001, 5674, 1001, 4496, 20806, 11411, 2078, 8299, 1024, 1013, 1013, 1056, 1012, 2522, 1013, 10768, 3501, 2475, 2615, 2509, 7140, 19892, 102]\n",
      "(35, 768)\n",
      "(768,)\n",
      "['[CLS]', '@', 'mr', '##dah', '##l', '##8', '##7', 'we', 'are', 'rumored', 'to', 'have', 'talked', 'to', 'er', '##v', \"'\", 's', 'agent', '.', '.', '.', 'and', 'the', 'angels', 'asked', 'about', 'ed', 'es', '##co', '##bar', '.', '.', '.', 'that', \"'\", 's', 'hardly', 'nothing', ';', ')', '[SEP]']\n",
      "[101, 1030, 2720, 18417, 2140, 2620, 2581, 2057, 2024, 22710, 2000, 2031, 5720, 2000, 9413, 2615, 1005, 1055, 4005, 1012, 1012, 1012, 1998, 1996, 7048, 2356, 2055, 3968, 9686, 3597, 8237, 1012, 1012, 1012, 2008, 1005, 1055, 6684, 2498, 1025, 1007, 102]\n",
      "(42, 768)\n",
      "(768,)\n",
      "['[CLS]', 'hey', 'there', '!', 'nice', 'to', 'see', 'you', 'minnesota', '/', 'n', '##d', 'winter', 'weather', '[SEP]']\n",
      "[101, 4931, 2045, 999, 3835, 2000, 2156, 2017, 5135, 1013, 1050, 2094, 3467, 4633, 102]\n",
      "(15, 768)\n",
      "(768,)\n",
      "['[CLS]', '3', 'episodes', 'left', 'i', \"'\", 'm', 'dying', 'over', 'here', '[SEP]']\n",
      "[101, 1017, 4178, 2187, 1045, 1005, 1049, 5996, 2058, 2182, 102]\n",
      "(11, 768)\n",
      "(768,)\n",
      "['[CLS]', '\"', 'i', 'can', \"'\", 't', 'breathe', '!', '\"', 'was', 'chosen', 'as', 'the', 'most', 'notable', 'quote', 'of', 'the', 'year', 'in', 'an', 'annual', 'list', 'released', 'by', 'a', 'yale', 'university', 'librarian', '[SEP]']\n",
      "[101, 1000, 1045, 2064, 1005, 1056, 7200, 999, 1000, 2001, 4217, 2004, 1996, 2087, 3862, 14686, 1997, 1996, 2095, 1999, 2019, 3296, 2862, 2207, 2011, 1037, 7996, 2118, 13850, 102]\n",
      "(30, 768)\n",
      "(768,)\n",
      "['[CLS]', 'you', \"'\", 're', 'never', 'too', 'old', 'for', 'foot', '##ie', 'pajamas', '.', 'http', ':', '/', '/', 't', '.', 'co', '/', 'el', '##z', '##g', '##q', '##s', '##x', '##2', '##y', '##q', '[SEP]']\n",
      "[101, 2017, 1005, 2128, 2196, 2205, 2214, 2005, 3329, 2666, 27621, 1012, 8299, 1024, 1013, 1013, 1056, 1012, 2522, 1013, 3449, 2480, 2290, 4160, 2015, 2595, 2475, 2100, 4160, 102]\n",
      "(30, 768)\n",
      "(768,)\n",
      "['[CLS]', 'nothing', 'makes', 'me', 'happier', 'then', 'getting', 'on', 'the', 'highway', 'and', 'seeing', 'break', 'lights', 'light', 'up', 'like', 'a', 'christmas', 'tree', '.', '.', '[SEP]']\n",
      "[101, 2498, 3084, 2033, 19366, 2059, 2893, 2006, 1996, 3307, 1998, 3773, 3338, 4597, 2422, 2039, 2066, 1037, 4234, 3392, 1012, 1012, 102]\n",
      "(23, 768)\n",
      "(768,)\n",
      "['[CLS]', '4', ':', '30', 'an', 'opening', 'my', 'first', 'beer', 'now', 'gonna', 'be', 'a', 'long', 'night', '/', 'day', '[SEP]']\n",
      "[101, 1018, 1024, 2382, 2019, 3098, 2026, 2034, 5404, 2085, 6069, 2022, 1037, 2146, 2305, 1013, 2154, 102]\n",
      "(18, 768)\n",
      "(768,)\n",
      "['[CLS]', '@', 'adam', '_', 'k', '##lu', '##g', 'do', 'you', 'think', 'you', 'would', 'support', 'a', 'guy', 'who', 'knocked', 'out', 'your', 'daughter', '?', 'rice', 'doesn', \"'\", 't', 'deserve', 'support', '.', '[SEP]']\n",
      "[101, 1030, 4205, 1035, 1047, 7630, 2290, 2079, 2017, 2228, 2017, 2052, 2490, 1037, 3124, 2040, 6573, 2041, 2115, 2684, 1029, 5785, 2987, 1005, 1056, 10107, 2490, 1012, 102]\n",
      "(29, 768)\n",
      "(768,)\n",
      "['[CLS]', '@', 'sam', '##c', '##gui', '##gan', '##54', '##4', 'you', 'are', 'not', 'allowed', 'to', 'open', 'that', 'until', 'christmas', 'day', '!', '[SEP]']\n",
      "[101, 1030, 3520, 2278, 25698, 5289, 27009, 2549, 2017, 2024, 2025, 3039, 2000, 2330, 2008, 2127, 4234, 2154, 999, 102]\n",
      "(20, 768)\n",
      "(768,)\n",
      "['[CLS]', 'oh', ',', 'thank', 'god', '-', 'our', 'entire', 'office', 'email', 'system', 'is', 'down', '.', '.', '.', 'the', 'day', 'of', 'a', 'big', 'event', '.', 'santa', ',', 'you', 'know', 'just', 'what', 'to', 'get', 'me', 'for', 'x', '##mas', '.', '[SEP]']\n",
      "[101, 2821, 1010, 4067, 2643, 1011, 2256, 2972, 2436, 10373, 2291, 2003, 2091, 1012, 1012, 1012, 1996, 2154, 1997, 1037, 2502, 2724, 1012, 4203, 1010, 2017, 2113, 2074, 2054, 2000, 2131, 2033, 2005, 1060, 9335, 1012, 102]\n",
      "(37, 768)\n",
      "(768,)\n",
      "['[CLS]', 'but', 'instead', ',', 'i', \"'\", 'm', 'scrolling', 'through', 'facebook', ',', 'ins', '##tagram', ',', 'and', 'twitter', 'for', 'hours', 'on', 'end', ',', 'accomplish', '##ing', 'nothing', '.', '[SEP]']\n",
      "[101, 2021, 2612, 1010, 1045, 1005, 1049, 28903, 2083, 9130, 1010, 16021, 23091, 1010, 1998, 10474, 2005, 2847, 2006, 2203, 1010, 14570, 2075, 2498, 1012, 102]\n",
      "(26, 768)\n",
      "(768,)\n",
      "['[CLS]', '@', 'target', '##zone', '##pt', ':', 'po', '##uting', '_', 'face', ':', 'no', 'he', 'bloody', 'isn', \"'\", 't', 'i', 'was', 'upstairs', 'getting', 'changed', '!', '[SEP]']\n",
      "[101, 1030, 4539, 15975, 13876, 1024, 13433, 20807, 1035, 2227, 1024, 2053, 2002, 6703, 3475, 1005, 1056, 1045, 2001, 8721, 2893, 2904, 999, 102]\n",
      "(24, 768)\n",
      "(768,)\n",
      "['[CLS]', 'cold', 'or', 'warmth', 'both', 'su', '##ff', '##use', 'one', \"'\", 's', 'cheeks', 'with', 'pink', '(', 'colour', '/', 'tone', ')', '.', '.', '.', 'do', 'you', 'understand', 'the', 'underlying', 'difference', '&', 'its', 'texture', '?', '[SEP]']\n",
      "[101, 3147, 2030, 8251, 2119, 10514, 4246, 8557, 2028, 1005, 1055, 6029, 2007, 5061, 1006, 6120, 1013, 4309, 1007, 1012, 1012, 1012, 2079, 2017, 3305, 1996, 10318, 4489, 1004, 2049, 14902, 1029, 102]\n",
      "(33, 768)\n",
      "(768,)\n",
      "['[CLS]', 'just', 'great', 'when', 'you', \"'\", 're', 'mobile', 'bill', 'arrives', 'by', 'text', '[SEP]']\n",
      "[101, 2074, 2307, 2043, 2017, 1005, 2128, 4684, 3021, 8480, 2011, 3793, 102]\n",
      "(13, 768)\n",
      "(768,)\n",
      "['[CLS]', 'crush', '##es', 'are', 'great', 'until', 'you', 'realize', 'they', \"'\", 'll', 'never', 'be', 'interested', 'in', 'you', '.', '|', ':', 'p', '[SEP]']\n",
      "[101, 10188, 2229, 2024, 2307, 2127, 2017, 5382, 2027, 1005, 2222, 2196, 2022, 4699, 1999, 2017, 1012, 1064, 1024, 1052, 102]\n",
      "(21, 768)\n",
      "(768,)\n",
      "['[CLS]', 'buffalo', 'sports', 'media', 'is', 'smarter', 'than', 'all', 'of', 'us', '.', 'where', 'else', 'can', 'you', 'get', 'the', 'quality', 'insight', 'offered', 'by', 'harrington', 'and', 'bus', '##ga', '##glia', '.', '[SEP]']\n",
      "[101, 6901, 2998, 2865, 2003, 25670, 2084, 2035, 1997, 2149, 1012, 2073, 2842, 2064, 2017, 2131, 1996, 3737, 12369, 3253, 2011, 19760, 1998, 3902, 3654, 20011, 1012, 102]\n",
      "(28, 768)\n",
      "(768,)\n",
      "['[CLS]', 'i', 'guess', 'my', 'cat', 'also', 'lost', '3', 'pounds', 'when', 'she', 'went', 'to', 'the', 'vet', 'after', 'i', \"'\", 've', 'been', 'feeding', 'her', 'a', 'few', 'times', 'a', 'day', '.', '|', '|', '#', 'eating', '|', '#', 'food', '|', '|', '#', 'working', '##out', '[SEP]']\n",
      "[101, 1045, 3984, 2026, 4937, 2036, 2439, 1017, 7038, 2043, 2016, 2253, 2000, 1996, 29525, 2044, 1045, 1005, 2310, 2042, 8521, 2014, 1037, 2261, 2335, 1037, 2154, 1012, 1064, 1064, 1001, 5983, 1064, 1001, 2833, 1064, 1064, 1001, 2551, 5833, 102]\n",
      "(41, 768)\n",
      "(768,)\n",
      "['[CLS]', '@', 'yankees', '##w', '##fan', '@', 'ken', '_', 'rosenthal', 'trading', 'a', 'sp', 'for', 'a', 'defense', '-', 'only', 'ss', '?', 'brilliant', 'trade', '.', '[SEP]']\n",
      "[101, 1030, 11081, 2860, 15143, 1030, 6358, 1035, 29062, 6202, 1037, 11867, 2005, 1037, 3639, 1011, 2069, 7020, 1029, 8235, 3119, 1012, 102]\n",
      "(23, 768)\n",
      "(768,)\n",
      "['[CLS]', 'but', '@', 'dark', '##light', '##dav', '##e', 'was', 'trying', 'to', 'find', 'us', ',', 'and', 'my', 'battery', 'died', '.', 'guess', 'how', 'he', 'found', 'us', '?', 'yes', ',', 'that', 'bastard', 'wand', '!', '!', '!', '!', '!', '!', '[SEP]']\n",
      "[101, 2021, 1030, 2601, 7138, 29045, 2063, 2001, 2667, 2000, 2424, 2149, 1010, 1998, 2026, 6046, 2351, 1012, 3984, 2129, 2002, 2179, 2149, 1029, 2748, 1010, 2008, 8444, 23967, 999, 999, 999, 999, 999, 999, 102]\n",
      "(36, 768)\n",
      "(768,)\n"
     ]
    }
   ],
   "source": [
    "for tweet in tweets:\n",
    "    # Use the bert tokenizer\\n\",\n",
    "    tokens = [tokenizer.cls_token] + tokenizer.tokenize(tweet) + [tokenizer.sep_token]\n",
    "    all_tokens.append(tokens)\n",
    "    print(tokens)\n",
    "\n",
    "    # Convert the tokens to token ids\n",
    "    token_ids = tokenizer.convert_tokens_to_ids(tokens)\n",
    "    all_token_ids.append(token_ids)\n",
    "    print(token_ids)\n",
    "    tokens_tensor = torch.tensor(token_ids).unsqueeze(0)\n",
    "\n",
    "    # Get the bert output, see https://huggingface.co/transformers/model_doc/bert.html#bert-specific-outputs for details\n",
    "    model.eval()  # turn off dropout layers\n",
    "    output = model(tokens_tensor)\n",
    "\n",
    "    # Extract the hidden states for all layers\n",
    "    layers = output.hidden_states\n",
    "#     print(len(layers))\n",
    "\n",
    "    # Select a layer to examine TODO: Try out different layers. For the assignment, it should be the last one. \n",
    "    layer = 12\n",
    "\n",
    "    # Our batch consists of a single sentence, so we simply extract the first one\n",
    "    tweet_vector = layers[layer][0].detach().numpy()\n",
    "\n",
    "    # The sentence vector is a list of vectors, one for each token in the sentence\n",
    "    # Each token vector consists of 768 dimensions\n",
    "    print(tweet_vector.shape)\n",
    "      \n",
    "    # We use the vector for the first token (the CLS token) as representation for the sentence\n",
    "    print(tweet_vector[0].shape)\n",
    "    tweet_vectors.append(tweet_vector[0])"
   ]
  },
  {
   "cell_type": "code",
   "execution_count": null,
   "id": "shared-yeast",
   "metadata": {},
   "outputs": [],
   "source": []
  },
  {
   "cell_type": "code",
   "execution_count": 72,
   "id": "buried-waters",
   "metadata": {},
   "outputs": [
    {
     "data": {
      "text/plain": [
       "(20, 768)"
      ]
     },
     "execution_count": 72,
     "metadata": {},
     "output_type": "execute_result"
    }
   ],
   "source": [
    "np.asarray(tweet_vectors).shape"
   ]
  },
  {
   "cell_type": "code",
   "execution_count": null,
   "id": "spiritual-cooperation",
   "metadata": {},
   "outputs": [],
   "source": []
  },
  {
   "cell_type": "code",
   "execution_count": null,
   "id": "improving-monroe",
   "metadata": {},
   "outputs": [],
   "source": []
  },
  {
   "cell_type": "code",
   "execution_count": 73,
   "id": "economic-petersburg",
   "metadata": {},
   "outputs": [
    {
     "name": "stdout",
     "output_type": "stream",
     "text": [
      "[[0.99999964 0.89030635 0.8867403  0.87784797 0.83436996 0.94629824\n",
      "  0.81663847 0.840546   0.8587786  0.88971317 0.8784206  0.8045479\n",
      "  0.85792994 0.78058815 0.8702616  0.89721763 0.84067935 0.85910153\n",
      "  0.8858837  0.85637176]\n",
      " [0.89030635 1.0000001  0.8562063  0.8549133  0.8258655  0.8693943\n",
      "  0.82426655 0.8363036  0.8620088  0.8700238  0.85520035 0.7833326\n",
      "  0.8552185  0.7905169  0.87041676 0.8883474  0.82519054 0.83402205\n",
      "  0.85595894 0.86708057]\n",
      " [0.8867403  0.8562063  0.9999999  0.9087912  0.8064022  0.8785703\n",
      "  0.8021984  0.90134025 0.86419904 0.87821937 0.87679577 0.8087975\n",
      "  0.8830633  0.7550963  0.9137297  0.87895346 0.8259156  0.8033713\n",
      "  0.8807869  0.8264866 ]\n",
      " [0.87784797 0.8549133  0.9087912  1.0000002  0.813012   0.87020606\n",
      "  0.81019354 0.91054267 0.86876726 0.8659855  0.854998   0.8165341\n",
      "  0.8619962  0.7463484  0.91054    0.8772426  0.8259474  0.79818285\n",
      "  0.87046826 0.818213  ]\n",
      " [0.83436996 0.8258655  0.8064022  0.813012   1.0000002  0.83607864\n",
      "  0.79283535 0.7730028  0.83822    0.8141278  0.79630196 0.807114\n",
      "  0.7972857  0.74842703 0.8156239  0.8285631  0.80027246 0.7633133\n",
      "  0.8329997  0.79884577]\n",
      " [0.94629824 0.8693943  0.8785703  0.87020606 0.83607864 1.0000002\n",
      "  0.8041913  0.81930566 0.86827457 0.89432216 0.87831664 0.8034313\n",
      "  0.8716588  0.7851083  0.8660995  0.8967018  0.8407897  0.84210026\n",
      "  0.8812109  0.8490517 ]\n",
      " [0.81663847 0.82426655 0.8021984  0.81019354 0.79283535 0.8041913\n",
      "  1.0000001  0.783038   0.8138446  0.79429436 0.80464023 0.79896414\n",
      "  0.7853169  0.8211254  0.79631066 0.8221059  0.800799   0.7715056\n",
      "  0.82778454 0.8053039 ]\n",
      " [0.840546   0.8363036  0.90134025 0.91054267 0.7730028  0.81930566\n",
      "  0.783038   0.9999999  0.812127   0.80538845 0.80780935 0.7787496\n",
      "  0.81452584 0.7165432  0.8842239  0.8376154  0.7751578  0.7577046\n",
      "  0.819509   0.77035517]\n",
      " [0.8587786  0.8620088  0.86419904 0.86876726 0.83822    0.86827457\n",
      "  0.8138446  0.812127   1.0000001  0.89003706 0.8793951  0.8442712\n",
      "  0.88496804 0.7991121  0.8846882  0.8808247  0.8811425  0.80988085\n",
      "  0.89899325 0.8608842 ]\n",
      " [0.88971317 0.8700238  0.87821937 0.8659855  0.8141278  0.89432216\n",
      "  0.79429436 0.80538845 0.89003706 1.         0.900474   0.81122744\n",
      "  0.9200772  0.7873597  0.87229216 0.8641982  0.8385695  0.8358351\n",
      "  0.88817275 0.90640897]\n",
      " [0.8784206  0.85520035 0.87679577 0.854998   0.79630196 0.87831664\n",
      "  0.80464023 0.80780935 0.8793951  0.900474   1.0000001  0.84039193\n",
      "  0.90370464 0.7949482  0.8585303  0.8589038  0.86412615 0.83227706\n",
      "  0.89298755 0.87769735]\n",
      " [0.8045479  0.7833326  0.8087975  0.8165341  0.807114   0.8034313\n",
      "  0.79896414 0.7787496  0.8442712  0.81122744 0.84039193 0.9999999\n",
      "  0.8318573  0.73332906 0.81625104 0.8171952  0.81487554 0.7830469\n",
      "  0.8202531  0.8033252 ]\n",
      " [0.85792994 0.8552185  0.8830633  0.8619962  0.7972857  0.8716588\n",
      "  0.7853169  0.81452584 0.88496804 0.9200772  0.90370464 0.8318573\n",
      "  1.0000002  0.7811773  0.8693144  0.8738313  0.8240377  0.8303338\n",
      "  0.8815851  0.89309156]\n",
      " [0.78058815 0.7905169  0.7550963  0.7463484  0.74842703 0.7851083\n",
      "  0.8211254  0.7165432  0.7991121  0.7873597  0.7949482  0.73332906\n",
      "  0.7811773  1.         0.74020326 0.78142726 0.82657325 0.7461751\n",
      "  0.8044523  0.7865472 ]\n",
      " [0.8702616  0.87041676 0.9137297  0.91054    0.8156239  0.8660995\n",
      "  0.79631066 0.8842239  0.8846882  0.87229216 0.8585303  0.81625104\n",
      "  0.8693144  0.74020326 0.99999976 0.87444806 0.81911325 0.7840963\n",
      "  0.8610282  0.80123115]\n",
      " [0.89721763 0.8883474  0.87895346 0.8772426  0.8285631  0.8967018\n",
      "  0.8221059  0.8376154  0.8808247  0.8641982  0.8589038  0.8171952\n",
      "  0.8738313  0.78142726 0.87444806 1.         0.82120097 0.85717535\n",
      "  0.877726   0.8370965 ]\n",
      " [0.84067935 0.82519054 0.8259156  0.8259474  0.80027246 0.8407897\n",
      "  0.800799   0.7751578  0.8811425  0.8385695  0.86412615 0.81487554\n",
      "  0.8240377  0.82657325 0.81911325 0.82120097 1.         0.77136874\n",
      "  0.88740945 0.8337734 ]\n",
      " [0.85910153 0.83402205 0.8033713  0.79818285 0.7633133  0.84210026\n",
      "  0.7715056  0.7577046  0.80988085 0.8358351  0.83227706 0.7830469\n",
      "  0.8303338  0.7461751  0.7840963  0.85717535 0.77136874 0.9999995\n",
      "  0.8109377  0.8226676 ]\n",
      " [0.8858837  0.85595894 0.8807869  0.87046826 0.8329997  0.8812109\n",
      "  0.82778454 0.819509   0.89899325 0.88817275 0.89298755 0.8202531\n",
      "  0.8815851  0.8044523  0.8610282  0.877726   0.88740945 0.8109377\n",
      "  1.0000002  0.87685126]\n",
      " [0.85637176 0.86708057 0.8264866  0.818213   0.79884577 0.8490517\n",
      "  0.8053039  0.77035517 0.8608842  0.90640897 0.87769735 0.8033252\n",
      "  0.89309156 0.7865472  0.80123115 0.8370965  0.8337734  0.8226676\n",
      "  0.87685126 1.        ]]\n"
     ]
    },
    {
     "data": {
      "image/png": "[encoded data removed]",
      "text/plain": [
       "<Figure size 432x288 with 2 Axes>"
      ]
     },
     "metadata": {
      "needs_background": "light"
     },
     "output_type": "display_data"
    }
   ],
   "source": [
    "# Calculate pairwise similarities\n",
    "similarity_matrix = cosine_similarity(np.asarray(tweet_vectors))\n",
    "print(similarity_matrix)\n",
    "\n",
    "# Plot a heatmap\n",
    "ax = sns.heatmap(similarity_matrix, linewidth=0.5, cmap=\"YlGnBu\")\n",
    "ids = list(range(1, len(sentences)+1))\n",
    "ax.set_xticklabels(ids)\n",
    "ax.set_yticklabels(ids)\n",
    "\n",
    "# Remove the ticks, but keep the labels\n",
    "ax.tick_params(top=False, bottom=False, left=False, right=False, labelleft=True, labeltop=True, labelbottom=False)\n",
    "ax.set_title(\"Similarity between sentence pairs\")\n",
    "plt.show()"
   ]
  },
  {
   "cell_type": "code",
   "execution_count": null,
   "id": "continued-process",
   "metadata": {},
   "outputs": [],
   "source": []
  },
  {
   "cell_type": "code",
   "execution_count": null,
   "id": "cutting-fitness",
   "metadata": {},
   "outputs": [],
   "source": []
  },
  {
   "cell_type": "code",
   "execution_count": null,
   "id": "numerical-shame",
   "metadata": {},
   "outputs": [],
   "source": []
  },
  {
   "cell_type": "code",
   "execution_count": null,
   "id": "dynamic-october",
   "metadata": {},
   "outputs": [],
   "source": []
  },
  {
   "cell_type": "code",
   "execution_count": null,
   "id": "short-alliance",
   "metadata": {},
   "outputs": [],
   "source": []
  },
  {
   "cell_type": "code",
   "execution_count": null,
   "id": "civil-ocean",
   "metadata": {},
   "outputs": [],
   "source": []
  },
  {
   "cell_type": "code",
   "execution_count": null,
   "id": "informed-wagner",
   "metadata": {},
   "outputs": [],
   "source": []
  },
  {
   "cell_type": "code",
   "execution_count": null,
   "id": "arabic-links",
   "metadata": {},
   "outputs": [],
   "source": []
  }
 ],
 "metadata": {
  "kernelspec": {
   "display_name": "Python 3",
   "language": "python",
   "name": "python3"
  },
  "language_info": {
   "codemirror_mode": {
    "name": "ipython",
    "version": 3
   },
   "file_extension": ".py",
   "mimetype": "text/x-python",
   "name": "python",
   "nbconvert_exporter": "python",
   "pygments_lexer": "ipython3",
   "version": "3.9.2"
  }
 },
 "nbformat": 4,
 "nbformat_minor": 5
}
